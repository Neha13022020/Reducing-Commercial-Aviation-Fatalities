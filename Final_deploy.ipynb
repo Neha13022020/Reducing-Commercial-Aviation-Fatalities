{
 "cells": [
  {
   "cell_type": "code",
   "execution_count": 158,
   "metadata": {},
   "outputs": [],
   "source": [
    "import warnings\n",
    "warnings.filterwarnings(\"ignore\")\n",
    "import pickle\n",
    "from xgboost.sklearn import XGBClassifier\n",
    "import numpy as np\n",
    "import pandas as pd\n",
    "from scipy.interpolate import interp1d\n",
    "from biosppy.signals import ecg\n",
    "from biosppy.signals import resp\n",
    "from biosppy.signals import eda\n",
    "from biosppy.signals import eeg\n",
    "from timeit import default_timer as timer\n",
    "from sklearn.metrics import log_loss"
   ]
  },
  {
   "cell_type": "code",
   "execution_count": 159,
   "metadata": {},
   "outputs": [],
   "source": [
    "\n",
    "def interpolated_value(t, feature_ts, feature_data):\n",
    "    ''' to predict values that fall within two existing data points using interpolation '''\n",
    "    new = interp1d(feature_ts, feature_data, kind='cubic', fill_value=\"extrapolate\")\n",
    "    return new(t)"
   ]
  },
  {
   "cell_type": "code",
   "execution_count": 160,
   "metadata": {},
   "outputs": [],
   "source": [
    "\n",
    "def pilot_features(data, loca, eeg_features):\n",
    "    ''' to add new features using biosppy.signals functions'''\n",
    "            \n",
    "    temp_df = data.loc[loca][['time', 'ecg', 'r', 'gsr'] + eeg_features].values\n",
    "    temp_df = temp_df[temp_df[:,0].argsort()]\n",
    "    \n",
    "    #if any value is zero for sensors, then replace it with nan. Else create new features like 'heart_rate', 'resp_rate', 'gsr_amp'\n",
    "    \n",
    "    if np.allclose(temp_df[:,1], 0, rtol=1e-10):\n",
    "        data.loc[loca, 'ecg'] = np.nan\n",
    "        print('missing egc, value should not be zero')\n",
    "    else:\n",
    "        try:\n",
    "            heart_sig = ecg.ecg(signal=temp_df[:,1], sampling_rate=256., show=False)\n",
    "            heart_rate = heart_sig['heart_rate']\n",
    "            heart_rate_ts = heart_sig['heart_rate_ts']\n",
    "            data.loc[loca, 'heart_rate'] = interpolated_value(temp_df[:,0], heart_rate_ts, heart_rate)\n",
    "        except ValueError:\n",
    "            pass\n",
    "            \n",
    "            \n",
    "    if np.allclose(temp_df[:,2], 0, rtol=1e-10):\n",
    "        data.loc[loca, 'r'] = np.nan\n",
    "        print('missing r, value should not be zero')\n",
    "    else:\n",
    "        try:\n",
    "            resp_sig = resp.resp(signal=temp_df[:,2], sampling_rate=256., show=False)\n",
    "            resp_rate = resp_sig['resp_rate']\n",
    "            resp_rate_ts = resp_sig['resp_rate_ts']\n",
    "            data.loc[loca, 'resp_rate'] = interpolated_value(temp_df[:,0], resp_rate_ts, resp_rate)\n",
    "        except ValueError:\n",
    "            pass\n",
    "            \n",
    "        \n",
    "    if np.allclose(temp_df[:,3], 0, rtol=1e-10):\n",
    "        data.loc[loca, 'gsr'] = np.nan\n",
    "        print('missing gsr, value should not be zero')\n",
    "    else:\n",
    "        try:\n",
    "            gsr_sig = eda.eda(signal=temp_df[:,3], sampling_rate=256., show=False)\n",
    "            gsr_amp = gsr_sig['amplitudes']\n",
    "            gsr_amp_ts = temp_df[gsr_sig['onsets'], 0]\n",
    "            data.loc[loca, 'gsr_amp'] = interpolated_value(temp_df[:,0], gsr_amp_ts, gsr_amp)\n",
    "        except IndexError:\n",
    "            pass\n",
    "            \n",
    "        except ValueError:\n",
    "            pass\n",
    "            \n",
    "        \n",
    "    # creating 5 more features with ‘get_power_features’ function which returns 6 values, using interpolation on top of that.\n",
    "    try:\n",
    "        eeg_feat_sig = eeg.get_power_features(signal=temp_df[:,4:], sampling_rate=256.)\n",
    "        eeg_ts = eeg_feat_sig['ts']\n",
    "        eeg_theta = eeg_feat_sig['theta']\n",
    "        eeg_alpha_low = eeg_feat_sig['alpha_low']\n",
    "        eeg_alpha_high = eeg_feat_sig['alpha_high']\n",
    "        eeg_beta = eeg_feat_sig['beta']\n",
    "        eeg_gamma = eeg_feat_sig['gamma']\n",
    "        for i, e in enumerate(eeg_features):\n",
    "            data.loc[loca, e + '_theta'] = interpolated_value(temp_df[:,0], eeg_ts, eeg_theta[:,i])\n",
    "            data.loc[loca, e + '_alpha_low'] = interpolated_value(temp_df[:,0], eeg_ts, eeg_alpha_low[:,i])\n",
    "            data.loc[loca, e + '_alpha_high'] = interpolated_value(temp_df[:,0], eeg_ts, eeg_alpha_high[:,i])\n",
    "            data.loc[loca, e + '_beta'] = interpolated_value(temp_df[:,0], eeg_ts, eeg_beta[:,i])\n",
    "            data.loc[loca, e + '_gamma'] = interpolated_value(temp_df[:,0], eeg_ts, eeg_gamma[:,i])\n",
    "    except ValueError:\n",
    "        pass\n",
    "        "
   ]
  },
  {
   "cell_type": "code",
   "execution_count": 164,
   "metadata": {},
   "outputs": [],
   "source": [
    "\n",
    "\n",
    "def func1(raw_data):\n",
    "    ''' taking 1 datapoint as input with 27 features and returning the predicted output for it '''\n",
    "    \n",
    "    start = timer()\n",
    "    train=pd.read_csv('train.csv').sample(4000)\n",
    "    train=train.drop('event',axis=1)\n",
    "        \n",
    "    if raw_data[1] == 'LOFT':\n",
    "        raw_data[1]=4\n",
    "    elif raw_data[1] == 'CA':\n",
    "        raw_data[1]=0\n",
    "    elif raw_data[1] == 'DA':\n",
    "        raw_data[1]=1\n",
    "    elif raw_data[1] == 'SS':\n",
    "        raw_data[1]=3\n",
    "        \n",
    "    raw_data=np.array(raw_data,dtype=float)\n",
    "    raw_data=raw_data.reshape(1,27)\n",
    "    raw_data=pd.DataFrame(raw_data,columns=train.columns.tolist())\n",
    "    raw_data=raw_data.append(train)\n",
    "    raw_data.reset_index(inplace = True) \n",
    "    raw_data=raw_data.drop('index',axis=1)\n",
    "    raw_data['heart_rate'] = np.nan\n",
    "    raw_data['resp_rate'] = np.nan\n",
    "    raw_data['gsr_amp'] = np.nan\n",
    "    eeg_features = [\"eeg_fp1\", \"eeg_f7\", \"eeg_f8\", \"eeg_t4\", \"eeg_t6\", \"eeg_t5\", \"eeg_t3\", \"eeg_fp2\", \"eeg_o1\", \"eeg_p3\", \"eeg_pz\", \"eeg_f3\", \"eeg_fz\", \"eeg_f4\", \"eeg_c4\", \"eeg_p4\", \"eeg_poz\", \"eeg_c3\", \"eeg_cz\", \"eeg_o2\"]\n",
    "    for e in eeg_features:\n",
    "        raw_data[e + '_theta'] = np.nan\n",
    "        raw_data[e + '_alpha_low'] = np.nan\n",
    "        raw_data[e + '_alpha_high'] = np.nan\n",
    "        raw_data[e + '_beta'] = np.nan\n",
    "        raw_data[e + '_gamma'] = np.nan\n",
    "    pilot_features(raw_data, raw_data.index.values,eeg_features)\n",
    "    \n",
    "    pilot=[]\n",
    "    for i in range(len(raw_data)):\n",
    "        pilot.append(raw_data['crew'][i]*10+raw_data['seat'][i])\n",
    "    raw_data['pilot']=pilot\n",
    "    \n",
    "    raw_data=raw_data.drop(['crew','experiment','time','seat'],axis=1)\n",
    "    features=pd.read_csv('PermImp_df.csv')\n",
    "    featr=[]\n",
    "    for i in range(len(features)):\n",
    "        if (features['weight'][i]<=0):\n",
    "            featr.append(features.iloc[i]['feature'])\n",
    "    raw_data=raw_data.drop(featr,axis=1)\n",
    "    \n",
    "    best_model = pickle.load(open(\"xgb_model.pickle.dat\", \"rb\"))\n",
    "    pred=best_model.predict_proba(raw_data)\n",
    "    end = timer()\n",
    "    print('total time : ',end - start)\n",
    "    return pred[0]\n"
   ]
  },
  {
   "cell_type": "code",
   "execution_count": 169,
   "metadata": {},
   "outputs": [],
   "source": [
    "\n",
    "def func2(pred,y):\n",
    "    ''' returning the log loss for true and predicted values '''\n",
    "    \n",
    "    return log_loss(y,pred)\n"
   ]
  },
  {
   "cell_type": "code",
   "execution_count": 165,
   "metadata": {},
   "outputs": [
    {
     "data": {
      "text/plain": [
       "27"
      ]
     },
     "execution_count": 165,
     "metadata": {},
     "output_type": "execute_result"
    }
   ],
   "source": [
    "# sample raw data\n",
    "\n",
    "data=[1,'DA',79.3125,0,-12.3193,-9.38664,-8.27289,4.182519999999999,-5.07408,-12.8671,-1.7250900000000002,-11.9463,-9.22448,\n",
    " -2.7210099999999997,3.426,-9.89132,-0.274316,-6.72473,-2.2144,-0.5635399999999999,-1.51768,-5.32143,5.04036,-6.22804,\n",
    " -4454.430176,735.140991,1076.25]\n",
    "\n",
    "len(data)"
   ]
  },
  {
   "cell_type": "code",
   "execution_count": 174,
   "metadata": {
    "scrolled": false
   },
   "outputs": [
    {
     "name": "stdout",
     "output_type": "stream",
     "text": [
      "total time :  18.589751288000116\n",
      "predicted values are: [9.9833626e-01 1.1539460e-03 1.0484047e-04 4.0494994e-04]\n",
      "log_loss for our data point is: 0.0008324070859089261\n"
     ]
    }
   ],
   "source": [
    "# function 1 calling\n",
    "\n",
    "pred=func1(data)\n",
    "print('predicted values are:',pred)\n",
    "\n",
    "# function 2 calling\n",
    "\n",
    "y_true=[1,0,0,0]    # specify true values of y for each class\n",
    "loss=func2(pred,y_true)\n",
    "print('log_loss for our data point is:',loss)"
   ]
  },
  {
   "cell_type": "code",
   "execution_count": null,
   "metadata": {},
   "outputs": [],
   "source": []
  },
  {
   "cell_type": "code",
   "execution_count": null,
   "metadata": {},
   "outputs": [],
   "source": []
  }
 ],
 "metadata": {
  "kernelspec": {
   "display_name": "Python 3",
   "language": "python",
   "name": "python3"
  },
  "language_info": {
   "codemirror_mode": {
    "name": "ipython",
    "version": 3
   },
   "file_extension": ".py",
   "mimetype": "text/x-python",
   "name": "python",
   "nbconvert_exporter": "python",
   "pygments_lexer": "ipython3",
   "version": "3.5.3"
  }
 },
 "nbformat": 4,
 "nbformat_minor": 4
}
